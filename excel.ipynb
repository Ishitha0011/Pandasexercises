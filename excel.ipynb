{
 "cells": [
  {
   "cell_type": "code",
   "execution_count": 2,
   "id": "252507f7-6a0c-47ef-9a49-c3720a919cf1",
   "metadata": {},
   "outputs": [
    {
     "name": "stdout",
     "output_type": "stream",
     "text": [
      "Excel file saved to C:\\Users\\Ishitha Y\\pandas\\outputt.xlsx\n"
     ]
    }
   ],
   "source": [
    "import json\n",
    "import pandas as pd\n",
    "import re\n",
    "\n",
    "def fix_malformed_json(json_string):\n",
    "\n",
    "    if not json_string.strip().startswith('['):\n",
    "        json_string = '[' + json_string\n",
    "    if not json_string.strip().endswith(']'):\n",
    "        json_string = json_string + ']'\n",
    "    \n",
    "        json_string = re.sub(r'}\\s*{', '},{', json_string)\n",
    "    \n",
    "    return json_string\n",
    "\n",
    "def read_and_fix_json(file_path):\n",
    "    with open(file_path, 'r') as file:\n",
    "        json_string = file.read()\n",
    "    \n",
    "    fixed_json_string = fix_malformed_json(json_string)\n",
    "    try:\n",
    "        json_data = json.loads(fixed_json_string)\n",
    "    except json.JSONDecodeError as e:\n",
    "        print(f\"Error decoding JSON: {e}\")\n",
    "        return None\n",
    "\n",
    "    return json_data\n",
    "\n",
    "def json_to_excel(json_data, output_path):\n",
    "    \n",
    "    df = pd.json_normalize(json_data, sep='_')\n",
    "    df.to_excel(output_path, index=False)\n",
    "\n",
    "input_file_path = 'C:\\\\Users\\\\Ishitha Y\\\\pandas\\\\mongodb_profit-beta_jobs.json'\n",
    "output_excel_path = 'C:\\\\Users\\\\Ishitha Y\\\\pandas\\\\outputt.xlsx'\n",
    "\n",
    "json_data = read_and_fix_json(input_file_path)\n",
    "\n",
    "if json_data:\n",
    "   \n",
    "    json_to_excel(json_data, output_excel_path)\n",
    "    print(f\"Excel file saved to {output_excel_path}\")\n",
    "else:\n",
    "    print(\"Failed to fix JSON file.\")\n"
   ]
  },
  {
   "cell_type": "code",
   "execution_count": null,
   "id": "a9c8bd39-c64b-4eb9-ab50-9a6998ca5c7a",
   "metadata": {},
   "outputs": [],
   "source": []
  }
 ],
 "metadata": {
  "kernelspec": {
   "display_name": "Python 3 (ipykernel)",
   "language": "python",
   "name": "python3"
  },
  "language_info": {
   "codemirror_mode": {
    "name": "ipython",
    "version": 3
   },
   "file_extension": ".py",
   "mimetype": "text/x-python",
   "name": "python",
   "nbconvert_exporter": "python",
   "pygments_lexer": "ipython3",
   "version": "3.11.7"
  }
 },
 "nbformat": 4,
 "nbformat_minor": 5
}
